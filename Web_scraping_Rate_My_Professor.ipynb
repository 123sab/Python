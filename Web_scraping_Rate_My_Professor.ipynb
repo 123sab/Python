{
  "nbformat": 4,
  "nbformat_minor": 0,
  "metadata": {
    "colab": {
      "name": "Web scraping Rate My Professor.ipynb",
      "version": "0.3.2",
      "provenance": [],
      "collapsed_sections": [],
      "include_colab_link": true
    },
    "kernelspec": {
      "name": "python3",
      "display_name": "Python 3"
    }
  },
  "cells": [
    {
      "cell_type": "markdown",
      "metadata": {
        "id": "view-in-github",
        "colab_type": "text"
      },
      "source": [
        "<a href=\"https://colab.research.google.com/github/Tanu-N-Prabhu/Python/blob/master/Web_scraping_Rate_My_Professor.ipynb\" target=\"_parent\"><img src=\"https://colab.research.google.com/assets/colab-badge.svg\" alt=\"Open In Colab\"/></a>"
      ]
    },
    {
      "cell_type": "markdown",
      "metadata": {
        "id": "cm1axZ2cHUa5",
        "colab_type": "text"
      },
      "source": [
        "# Web scraping using BeautifulSoup and Requests libraries."
      ]
    },
    {
      "cell_type": "markdown",
      "metadata": {
        "id": "TESiRp8VE44M",
        "colab_type": "text"
      },
      "source": [
        "**What is Web Scraping ?**\n",
        "\n",
        "Web Scraping (also termed Screen Scraping, Web Data Extraction, Web Harvesting, etc.) is a technique employed to extract large amounts of data from websites whereby the data is extracted and saved to a local file in your computer or to a database in table (spreadsheet) format.\n",
        "\n",
        "Data displayed by most websites can only be viewed using a web browser. They do not offer the functionality to save a copy of this data for personal use. The only option then is to manually copy and paste the data - a very tedious job which can take many hours or sometimes days to complete. Web Scraping is the technique of automating this process so that instead of manually copying the data from websites, the Web Scraping software will perform the same task within a fraction of the time (shamelessly copied from webharvy.com)\n",
        "\n",
        "\n"
      ]
    },
    {
      "cell_type": "markdown",
      "metadata": {
        "id": "GKWhC08nI--a",
        "colab_type": "text"
      },
      "source": [
        "**Today we will be scraping  \"[Rate My Professor](https://www.ratemyprofessors.com)\" website. In this website, we shall see how to scrape and to extract a specific professor's tag.  I warn you guys this is not illegal but the mass scraping of data from the website can lead your IP address being blocked. Just do it once or twice, but don't just foolishly put it in a loop and try to put request inside the loop.**"
      ]
    },
    {
      "cell_type": "markdown",
      "metadata": {
        "id": "teMB0jnMELj2",
        "colab_type": "text"
      },
      "source": [
        "![alt text](https://i.kym-cdn.com/entries/icons/original/000/026/575/5ac80d20dfc1e.image.jpg)"
      ]
    },
    {
      "cell_type": "markdown",
      "metadata": {
        "id": "5QMkozcWJi4j",
        "colab_type": "text"
      },
      "source": [
        "**Step 1: Let us import few important libraries such as [Requests](https://2.python-requests.org/en/master) and [BeautifulSoup](https://www.crummy.com/software/BeautifulSoup/bs4/doc/)**"
      ]
    },
    {
      "cell_type": "code",
      "metadata": {
        "id": "bQIL3UbWh3II",
        "colab_type": "code",
        "colab": {}
      },
      "source": [
        "import requests\n",
        "from bs4 import BeautifulSoup"
      ],
      "execution_count": 0,
      "outputs": []
    },
    {
      "cell_type": "markdown",
      "metadata": {
        "id": "81N6kDoxM4ke",
        "colab_type": "text"
      },
      "source": [
        "**Step 2: Let us store the url of the professor in the variable named \"url\"**"
      ]
    },
    {
      "cell_type": "code",
      "metadata": {
        "id": "aadHoY69jEWI",
        "colab_type": "code",
        "colab": {}
      },
      "source": [
        "url = 'https://www.ratemyprofessors.com/ShowRatings.jsp?tid=1986099'"
      ],
      "execution_count": 0,
      "outputs": []
    },
    {
      "cell_type": "markdown",
      "metadata": {
        "id": "KP2pzOgWNG4u",
        "colab_type": "text"
      },
      "source": [
        "\n",
        "**Step 3: This is the most important part, Here we use the requests library by passing \"url\" as a parameter, be careful don't run this multiple times. If you get like Response 200 then its success.**\n"
      ]
    },
    {
      "cell_type": "code",
      "metadata": {
        "id": "r0wPh55bjJrp",
        "colab_type": "code",
        "colab": {}
      },
      "source": [
        "page = requests.get(url)"
      ],
      "execution_count": 0,
      "outputs": []
    },
    {
      "cell_type": "code",
      "metadata": {
        "id": "yY1A4nnijnfT",
        "colab_type": "code",
        "outputId": "a9306408-2cbe-4204-da6b-0c091fa2e257",
        "colab": {
          "base_uri": "https://localhost:8080/",
          "height": 35
        }
      },
      "source": [
        "page"
      ],
      "execution_count": 0,
      "outputs": [
        {
          "output_type": "execute_result",
          "data": {
            "text/plain": [
              "<Response [200]>"
            ]
          },
          "metadata": {
            "tags": []
          },
          "execution_count": 5
        }
      ]
    },
    {
      "cell_type": "markdown",
      "metadata": {
        "id": "g9-SmRvFNtcz",
        "colab_type": "text"
      },
      "source": [
        "**Step 4: Here we use the BeautifulSoup by passing the page.text as a paremeter and using the html parser.**"
      ]
    },
    {
      "cell_type": "code",
      "metadata": {
        "id": "B32OMv-4j1BJ",
        "colab_type": "code",
        "colab": {}
      },
      "source": [
        "soup = BeautifulSoup(page.text, \"html.parser\")"
      ],
      "execution_count": 0,
      "outputs": []
    },
    {
      "cell_type": "markdown",
      "metadata": {
        "id": "PnS9Q0nGOJAa",
        "colab_type": "text"
      },
      "source": [
        "**Step 5: Here is the place where you shall add the tags that you are looking for, just Inspect the page by right-clicking on the respected tag that you are looking and get the designated tag name.**\n",
        "\n",
        "\n"
      ]
    },
    {
      "cell_type": "code",
      "metadata": {
        "id": "mOZlRX52lyQK",
        "colab_type": "code",
        "outputId": "96d3e2f9-364f-48d9-fe67-12e13d886bd9",
        "colab": {
          "base_uri": "https://localhost:8080/",
          "height": 260
        }
      },
      "source": [
        "proftags = soup.findAll(\"span\", {\"class\": \"tag-box-choosetags\" })\n",
        "proftags"
      ],
      "execution_count": 0,
      "outputs": [
        {
          "output_type": "execute_result",
          "data": {
            "text/plain": [
              "[<span class=\"tag-box-choosetags\"> Hilarious <b>(11)</b></span>,\n",
              " <span class=\"tag-box-choosetags\"> Caring <b>(9)</b></span>,\n",
              " <span class=\"tag-box-choosetags\"> Accessible outside class <b>(8)</b></span>,\n",
              " <span class=\"tag-box-choosetags\"> Amazing lectures <b>(5)</b></span>,\n",
              " <span class=\"tag-box-choosetags\"> Clear grading criteria <b>(4)</b></span>,\n",
              " <span class=\"tag-box-choosetags\"> Inspirational <b>(4)</b></span>,\n",
              " <span class=\"tag-box-choosetags\"> Group projects <b>(3)</b></span>,\n",
              " <span class=\"tag-box-choosetags\"> Respected <b>(3)</b></span>,\n",
              " <span class=\"tag-box-choosetags\"> Gives good feedback <b>(2)</b></span>,\n",
              " <span class=\"tag-box-choosetags\"> EXTRA CREDIT <b>(2)</b></span>,\n",
              " <span class=\"tag-box-choosetags\"> Participation matters <b>(1)</b></span>,\n",
              " <span class=\"tag-box-choosetags\"> Lecture heavy <b>(1)</b></span>,\n",
              " <span class=\"tag-box-choosetags\"> Test heavy <b>(1)</b></span>,\n",
              " <span class=\"tag-box-choosetags\"> So many papers <b>(1)</b></span>]"
            ]
          },
          "metadata": {
            "tags": []
          },
          "execution_count": 32
        }
      ]
    },
    {
      "cell_type": "markdown",
      "metadata": {
        "id": "9SOauojTRxgh",
        "colab_type": "text"
      },
      "source": [
        "**Step 6: Here we remove all the html tags and convert it to a text format, this can be done with the help of a for loop and more importantly using get_text(). This converts the html into the text format.** "
      ]
    },
    {
      "cell_type": "code",
      "metadata": {
        "id": "m6xBHR-fmJAD",
        "colab_type": "code",
        "outputId": "aabf1482-5080-41db-db62-a0cf127a0d08",
        "colab": {
          "base_uri": "https://localhost:8080/",
          "height": 260
        }
      },
      "source": [
        "for mytag in proftags:\n",
        "  print(mytag.get_text())"
      ],
      "execution_count": 0,
      "outputs": [
        {
          "output_type": "stream",
          "text": [
            " Hilarious (11)\n",
            " Caring (9)\n",
            " Accessible outside class (8)\n",
            " Amazing lectures (5)\n",
            " Clear grading criteria (4)\n",
            " Inspirational (4)\n",
            " Group projects (3)\n",
            " Respected (3)\n",
            " Gives good feedback (2)\n",
            " EXTRA CREDIT (2)\n",
            " Participation matters (1)\n",
            " Lecture heavy (1)\n",
            " Test heavy (1)\n",
            " So many papers (1)\n"
          ],
          "name": "stdout"
        }
      ]
    },
    {
      "cell_type": "markdown",
      "metadata": {
        "id": "EgJ12-z9Sl9p",
        "colab_type": "text"
      },
      "source": [
        "**Hence we got the above information that we were looking for. We got all the tags of the professor. This is how we scrape the data from the internet by using requests and beautifulsoup libraries. To be frank this is my professor who teaches the subject \"Data Science\". He is the best professor to the entire university. I like his teaching and his style. He likes PewDiePie and so do I. Thanks and Bye for now, Stay tuned for more updates.**"
      ]
    }
  ]
}