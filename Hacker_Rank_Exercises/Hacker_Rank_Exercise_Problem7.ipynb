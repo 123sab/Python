{
 "cells": [
  {
   "cell_type": "code",
   "execution_count": null,
   "metadata": {},
   "outputs": [],
   "source": [
    "# Task Sum and Prod\n",
    "\n",
    "\n",
    "'''\n",
    "You are given a 2-D array with dimensions X. \n",
    "Your task is to perform the  tool over axis  and then find the  of that result.\n",
    "\n",
    "Input Format\n",
    "\n",
    "The first line of input contains space separated values of  and . \n",
    "The next  lines contains  space separated integers.\n",
    "\n",
    "Output Format\n",
    "\n",
    "Compute the sum along axis . Then, print the product of that sum.\n",
    "\n",
    "Sample Input\n",
    "\n",
    "2 2\n",
    "1 2\n",
    "3 4\n",
    "Sample Output\n",
    "\n",
    "24\n",
    "Explanation\n",
    "\n",
    "The sum along axis 0 = [4 6] \n",
    "The product of this sum = 24\n",
    "\n",
    "'''"
   ]
  },
  {
   "cell_type": "code",
   "execution_count": 3,
   "metadata": {},
   "outputs": [
    {
     "name": "stdout",
     "output_type": "stream",
     "text": [
      "2 2\n",
      "1 2\n",
      "3 4\n",
      "24\n"
     ]
    }
   ],
   "source": [
    "import numpy\n",
    "\n",
    "N, M = map(int, input().split())\n",
    "\n",
    "array = numpy.array([input().split() for i in range(N)], int)\n",
    "\n",
    "print(numpy.prod(numpy.sum(array, axis = 0), axis = None))\n",
    "\n",
    "# Hint first calculate the product and then the sum, if you do other way you cannot complete the other two test cases.(I got help for this)"
   ]
  },
  {
   "cell_type": "code",
   "execution_count": null,
   "metadata": {},
   "outputs": [],
   "source": []
  }
 ],
 "metadata": {
  "kernelspec": {
   "display_name": "Python 3",
   "language": "python",
   "name": "python3"
  },
  "language_info": {
   "codemirror_mode": {
    "name": "ipython",
    "version": 3
   },
   "file_extension": ".py",
   "mimetype": "text/x-python",
   "name": "python",
   "nbconvert_exporter": "python",
   "pygments_lexer": "ipython3",
   "version": "3.7.3"
  }
 },
 "nbformat": 4,
 "nbformat_minor": 2
}
