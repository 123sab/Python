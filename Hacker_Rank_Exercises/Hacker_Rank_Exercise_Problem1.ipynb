{
 "cells": [
  {
   "cell_type": "code",
   "execution_count": null,
   "metadata": {},
   "outputs": [],
   "source": [
    "# Task 1.\n",
    "\n",
    "# You are given a space separated list of numbers. \n",
    "# Your task is to print a reversed NumPy array with the element type float.\n",
    "\n",
    "# Input Format\n",
    "\n",
    "# A single line of input containing space separated numbers.\n",
    "\n",
    "# Output Format\n",
    "\n",
    "# Print the reverse NumPy array with type float.\n",
    "\n",
    "# Sample Input\n",
    "\n",
    "# 1 2 3 4 -8 -10\n",
    "\n",
    "# Sample Output\n",
    "\n",
    "# [-10.  -8.   4.   3.   2.   1.]"
   ]
  },
  {
   "cell_type": "code",
   "execution_count": 1,
   "metadata": {},
   "outputs": [
    {
     "name": "stdout",
     "output_type": "stream",
     "text": [
      "1 2 3 4 5\n",
      "[5. 4. 3. 2. 1.]\n"
     ]
    }
   ],
   "source": [
    "# The solution for the above problem task is give by me !!!\n",
    "\n",
    "import numpy\n",
    "def arrays(arr):\n",
    "    arr1 = numpy.array(arr, dtype = float)\n",
    "    arr2 = numpy.array(arr[::-1], dtype = float)\n",
    "    return arr2\n",
    "\n",
    "arr = input().strip().split(' ')\n",
    "result = arrays(arr)\n",
    "print(result)"
   ]
  }
 ],
 "metadata": {
  "kernelspec": {
   "display_name": "Python 3",
   "language": "python",
   "name": "python3"
  },
  "language_info": {
   "codemirror_mode": {
    "name": "ipython",
    "version": 3
   },
   "file_extension": ".py",
   "mimetype": "text/x-python",
   "name": "python",
   "nbconvert_exporter": "python",
   "pygments_lexer": "ipython3",
   "version": "3.7.3"
  }
 },
 "nbformat": 4,
 "nbformat_minor": 2
}
