{
 "cells": [
  {
   "cell_type": "code",
   "execution_count": null,
   "metadata": {},
   "outputs": [],
   "source": [
    "# Task Mean, Var, and Std\n",
    " \n",
    "# I would like to tell you guys one thing, is that I kind cheated for a reason, I was not geting how to take the input of the arrays uding for loop,\n",
    "# but multiple input using loops, so I had take the help of the discussion forums.\n",
    "\n",
    "You are given a 2-D array of size X. \n",
    "Your task is to find:\n",
    "\n",
    "The mean along axis \n",
    "The var along axis \n",
    "The std along axis \n",
    "Input Format\n",
    "\n",
    "The first line contains the space separated values of  and . \n",
    "The next  lines contains  space separated integers.\n",
    "\n",
    "Output Format\n",
    "\n",
    "First, print the mean. \n",
    "Second, print the var. \n",
    "Third, print the std.\n",
    "\n",
    "Sample Input\n",
    "\n",
    "2 2\n",
    "1 2\n",
    "3 4\n",
    "Sample Output\n",
    "\n",
    "[ 1.5  3.5]\n",
    "[ 1.  1.]\n",
    "1.11803398875"
   ]
  },
  {
   "cell_type": "code",
   "execution_count": 3,
   "metadata": {},
   "outputs": [
    {
     "name": "stdout",
     "output_type": "stream",
     "text": [
      "2 2\n",
      "1 2\n",
      "3 4\n",
      "[ 1.5  3.5]\n",
      "[ 1.  1.]\n",
      "1.11803398875\n"
     ]
    }
   ],
   "source": [
    "import numpy\n",
    "numpy.set_printoptions(legacy='1.13')\n",
    "\n",
    "N, M = map(int, input().split())\n",
    "A = numpy.array([input().split() for i in range(N)], dtype =int)\n",
    "print(numpy.mean(A, axis =1))\n",
    "print(numpy.var(A, axis =0))\n",
    "print(numpy.std(A, axis = None))\n"
   ]
  },
  {
   "cell_type": "code",
   "execution_count": null,
   "metadata": {},
   "outputs": [],
   "source": []
  }
 ],
 "metadata": {
  "kernelspec": {
   "display_name": "Python 3",
   "language": "python",
   "name": "python3"
  },
  "language_info": {
   "codemirror_mode": {
    "name": "ipython",
    "version": 3
   },
   "file_extension": ".py",
   "mimetype": "text/x-python",
   "name": "python",
   "nbconvert_exporter": "python",
   "pygments_lexer": "ipython3",
   "version": "3.7.3"
  }
 },
 "nbformat": 4,
 "nbformat_minor": 2
}
