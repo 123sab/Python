{
 "cells": [
  {
   "cell_type": "code",
   "execution_count": null,
   "metadata": {},
   "outputs": [],
   "source": [
    "# Task Linear Algebra\n",
    "\n",
    "You are given a square matrix  with dimensions X. Your task is to find the determinant.\n",
    "\n",
    "Input Format\n",
    "\n",
    "The first line contains the integer . \n",
    "The next  lines contains the  space separated elements of array .\n",
    "\n",
    "Output Format\n",
    "\n",
    "Print the determinant of .\n",
    "\n",
    "Sample Input\n",
    "\n",
    "2\n",
    "1.1 1.1\n",
    "1.1 1.1\n",
    "Sample Output\n",
    "\n",
    "0.0"
   ]
  },
  {
   "cell_type": "code",
   "execution_count": 5,
   "metadata": {},
   "outputs": [
    {
     "name": "stdout",
     "output_type": "stream",
     "text": [
      "2\n",
      "1.1 1.1\n",
      "1.1 1.1\n",
      "0.0\n"
     ]
    }
   ],
   "source": [
    "import numpy\n",
    "\n",
    "numpy.set_printoptions(legacy='1.13')\n",
    "\n",
    "N = int(input())\n",
    "\n",
    "A = numpy.array([input().split() for i in range(N)], float)\n",
    "print(numpy.linalg.det(A))\n"
   ]
  }
 ],
 "metadata": {
  "kernelspec": {
   "display_name": "Python 3",
   "language": "python",
   "name": "python3"
  },
  "language_info": {
   "codemirror_mode": {
    "name": "ipython",
    "version": 3
   },
   "file_extension": ".py",
   "mimetype": "text/x-python",
   "name": "python",
   "nbconvert_exporter": "python",
   "pygments_lexer": "ipython3",
   "version": "3.7.3"
  }
 },
 "nbformat": 4,
 "nbformat_minor": 2
}
