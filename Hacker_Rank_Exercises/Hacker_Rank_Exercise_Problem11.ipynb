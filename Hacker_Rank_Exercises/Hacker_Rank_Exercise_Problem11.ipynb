{
 "cells": [
  {
   "cell_type": "code",
   "execution_count": null,
   "metadata": {},
   "outputs": [],
   "source": [
    "Task Inner and Outer\n",
    "\n",
    "You are given two arrays:  and . \n",
    "Your task is to compute their inner and outer product.\n",
    "\n",
    "Input Format\n",
    "\n",
    "The first line contains the space separated elements of array . \n",
    "The second line contains the space separated elements of array .\n",
    "\n",
    "Output Format\n",
    "\n",
    "First, print the inner product. \n",
    "Second, print the outer product.\n",
    "\n",
    "Sample Input\n",
    "\n",
    "0 1\n",
    "2 3\n",
    "Sample Output\n",
    "\n",
    "3\n",
    "[[0 0]\n",
    " [2 3]]"
   ]
  },
  {
   "cell_type": "code",
   "execution_count": 3,
   "metadata": {},
   "outputs": [
    {
     "name": "stdout",
     "output_type": "stream",
     "text": [
      "0 1\n",
      "2 3\n",
      "---------------------------\n",
      "3\n",
      "---------------------------\n",
      "[[0 0]\n",
      " [2 3]]\n"
     ]
    }
   ],
   "source": [
    "import numpy\n",
    "\n",
    "\n",
    "a = numpy.array(input().split() , int)\n",
    "b = numpy.array(input().split() , int)\n",
    "print(\"---------------------------\")\n",
    "print(numpy.inner(a, b))\n",
    "print(\"---------------------------\")\n",
    "print(numpy.outer(a, b))\n"
   ]
  },
  {
   "cell_type": "code",
   "execution_count": null,
   "metadata": {},
   "outputs": [],
   "source": []
  }
 ],
 "metadata": {
  "kernelspec": {
   "display_name": "Python 3",
   "language": "python",
   "name": "python3"
  },
  "language_info": {
   "codemirror_mode": {
    "name": "ipython",
    "version": 3
   },
   "file_extension": ".py",
   "mimetype": "text/x-python",
   "name": "python",
   "nbconvert_exporter": "python",
   "pygments_lexer": "ipython3",
   "version": "3.7.3"
  }
 },
 "nbformat": 4,
 "nbformat_minor": 2
}
