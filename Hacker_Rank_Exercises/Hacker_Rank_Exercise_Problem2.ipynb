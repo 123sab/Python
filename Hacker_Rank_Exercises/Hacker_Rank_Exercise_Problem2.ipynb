{
 "cells": [
  {
   "cell_type": "code",
   "execution_count": 7,
   "metadata": {},
   "outputs": [],
   "source": [
    "# Task2 Shape and Reshape\n",
    "\n",
    "# You are given a space separated list of nine integers. Your task is to convert this list into a X NumPy array.\n",
    "\n",
    "# Input Format\n",
    "\n",
    "# A single line of input containing  space separated integers.\n",
    "\n",
    "# Output Format\n",
    "\n",
    "# Print the X NumPy array.\n",
    "\n",
    "# Sample Input\n",
    "\n",
    "# 1 2 3 4 5 6 7 8 9\n",
    "\n",
    "# Sample Output\n",
    "\n",
    "\n",
    "# [[1 2 3]\n",
    "# [4 5 6]\n",
    "# [7 8 9]]\n"
   ]
  },
  {
   "cell_type": "code",
   "execution_count": 11,
   "metadata": {},
   "outputs": [
    {
     "name": "stdout",
     "output_type": "stream",
     "text": [
      "1 2 3 4 5 6 7 8 9\n",
      "[[1 2 3]\n",
      " [4 5 6]\n",
      " [7 8 9]]\n"
     ]
    }
   ],
   "source": [
    "# The solution for the above problem task is give by me !!!\n",
    "\n",
    "import numpy\n",
    "\n",
    "def arrays(arr):\n",
    "    arr1 = numpy.array(arr, dtype = int)\n",
    "    arr2 = arr1.reshape(3, 3)\n",
    "    return arr2\n",
    "\n",
    "arr = input().strip().split(' ')\n",
    "result = arrays(arr)\n",
    "print(result)"
   ]
  }
 ],
 "metadata": {
  "kernelspec": {
   "display_name": "Python 3",
   "language": "python",
   "name": "python3"
  },
  "language_info": {
   "codemirror_mode": {
    "name": "ipython",
    "version": 3
   },
   "file_extension": ".py",
   "mimetype": "text/x-python",
   "name": "python",
   "nbconvert_exporter": "python",
   "pygments_lexer": "ipython3",
   "version": "3.7.3"
  }
 },
 "nbformat": 4,
 "nbformat_minor": 2
}
