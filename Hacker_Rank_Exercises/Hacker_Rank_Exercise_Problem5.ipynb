{
 "cells": [
  {
   "cell_type": "code",
   "execution_count": null,
   "metadata": {},
   "outputs": [],
   "source": [
    "# Task 5 Floor, Ceil and Rint\n",
    "\n",
    "Input Format\n",
    "\n",
    "A single line of input containing the space separated elements of array .\n",
    "\n",
    "Output Format\n",
    "\n",
    "On the first line, print the  of A. \n",
    "On the second line, print the  of A. \n",
    "On the third line, print the  of A.\n",
    "\n",
    "Sample Input\n",
    "\n",
    "1.1 2.2 3.3 4.4 5.5 6.6 7.7 8.8 9.9\n",
    "Sample Output\n",
    "\n",
    "[ 1.  2.  3.  4.  5.  6.  7.  8.  9.]\n",
    "[  2.   3.   4.   5.   6.   7.   8.   9.  10.]\n",
    "[  1.   2.   3.   4.   6.   7.   8.   9.  10.]\n",
    "\n",
    "# But I had to cheat in this example, because Hackerank has lost its mind in this exercise, because its asking for weired space throughout, \n",
    "# the exercise, which is irrelevant. So I had to sneek in one of the discussion foroums, and get the spacing problem corrected."
   ]
  },
  {
   "cell_type": "code",
   "execution_count": 1,
   "metadata": {},
   "outputs": [
    {
     "name": "stdout",
     "output_type": "stream",
     "text": [
      "1.1 2.2 3.3 4.4 5.5 6.6 7.7 8.8 9.9\n",
      "[ 1.  2.  3.  4.  5.  6.  7.  8.  9.]\n",
      "[  2.   3.   4.   5.   6.   7.   8.   9.  10.]\n",
      "[  1.   2.   3.   4.   6.   7.   8.   9.  10.]\n"
     ]
    }
   ],
   "source": [
    "import numpy\n",
    "numpy.set_printoptions(sign=' ')\n",
    "def arrays(arr):\n",
    "    arr1 = numpy.array(arr, dtype = float)\n",
    "\n",
    "    floor = numpy.floor(arr1)\n",
    "    ceil = numpy.ceil(arr1)\n",
    "    rint = numpy.rint(arr1)\n",
    "\n",
    "    return floor, ceil, rint    \n",
    "arr = input().strip().split(' ')\n",
    "floor, ceil, rint = arrays(arr)\n",
    "print(floor)\n",
    "print(ceil)\n",
    "print(rint)\n"
   ]
  },
  {
   "cell_type": "code",
   "execution_count": null,
   "metadata": {},
   "outputs": [],
   "source": []
  }
 ],
 "metadata": {
  "kernelspec": {
   "display_name": "Python 3",
   "language": "python",
   "name": "python3"
  },
  "language_info": {
   "codemirror_mode": {
    "name": "ipython",
    "version": 3
   },
   "file_extension": ".py",
   "mimetype": "text/x-python",
   "name": "python",
   "nbconvert_exporter": "python",
   "pygments_lexer": "ipython3",
   "version": "3.7.3"
  }
 },
 "nbformat": 4,
 "nbformat_minor": 2
}
