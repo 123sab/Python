{
 "cells": [
  {
   "cell_type": "code",
   "execution_count": null,
   "metadata": {},
   "outputs": [],
   "source": [
    "Task Array Mathematics\n",
    "\n",
    "Your task is to perform the following operations:\n",
    "Add ( + )\n",
    "Subtract ( - )\n",
    "Multiply ( * )\n",
    "Integer Division ( / )\n",
    "Mod ( % )\n",
    "Power ( ** )\n",
    "Input Format\n",
    "\n",
    "The first line contains two space separated integers,  and . \n",
    "The next  lines contains  space separated integers of array . \n",
    "The following  lines contains  space separated integers of array .\n",
    "\n",
    "Output Format\n",
    "\n",
    "Print the result of each operation in the given order under Task.\n",
    "\n",
    "Sample Input\n",
    "\n",
    "1 4\n",
    "1 2 3 4\n",
    "5 6 7 8\n",
    "Sample Output\n",
    "\n",
    "[[ 6  8 10 12]]\n",
    "[[-4 -4 -4 -4]]\n",
    "[[ 5 12 21 32]]\n",
    "[[0 0 0 0]]\n",
    "[[1 2 3 4]]\n",
    "[[    1    64  2187 65536]] \n",
    "Use // for division in Python 3."
   ]
  },
  {
   "cell_type": "code",
   "execution_count": 2,
   "metadata": {},
   "outputs": [
    {
     "name": "stdout",
     "output_type": "stream",
     "text": [
      "1 4\n",
      "1 2 3 4\n",
      "5 6 7 8\n",
      "[[ 6  8 10 12]]\n",
      "[[-4 -4 -4 -4]]\n",
      "[[ 5 12 21 32]]\n",
      "[[0 0 0 0]]\n",
      "[[1 2 3 4]]\n",
      "[[    1    64  2187 65536]]\n"
     ]
    }
   ],
   "source": [
    "import numpy\n",
    "\n",
    "N, M = map(int, input().split())\n",
    "\n",
    "a  = numpy.array([input().split() for i in range(N)], int)\n",
    "b = numpy.array([input().split() for i in range(N)], int)\n",
    "add = numpy.add(a, b)\n",
    "sub = numpy.subtract(a, b)\n",
    "mul = numpy.multiply(a, b)\n",
    "div = numpy.floor_divide(a, b)\n",
    "mod = numpy.mod(a, b)\n",
    "power = numpy.power(a, b)\n",
    "\n",
    "print(add)\n",
    "print(sub)\n",
    "print(mul)\n",
    "print(div)\n",
    "print(mod)\n",
    "print(power)"
   ]
  }
 ],
 "metadata": {
  "kernelspec": {
   "display_name": "Python 3",
   "language": "python",
   "name": "python3"
  },
  "language_info": {
   "codemirror_mode": {
    "name": "ipython",
    "version": 3
   },
   "file_extension": ".py",
   "mimetype": "text/x-python",
   "name": "python",
   "nbconvert_exporter": "python",
   "pygments_lexer": "ipython3",
   "version": "3.7.3"
  }
 },
 "nbformat": 4,
 "nbformat_minor": 2
}
