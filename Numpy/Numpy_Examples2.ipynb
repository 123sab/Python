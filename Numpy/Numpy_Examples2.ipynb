{
 "cells": [
  {
   "cell_type": "code",
   "execution_count": 2,
   "metadata": {},
   "outputs": [
    {
     "name": "stdout",
     "output_type": "stream",
     "text": [
      "[5 0 3 3 7 9]\n",
      "------------------------\n",
      "[[3 5 2 4 7]\n",
      " [6 8 8 1 6]]\n",
      "------------------------\n",
      "[[[7 7 8 1 5]\n",
      "  [9 8 9 4 3]\n",
      "  [0 3 5 0 2]\n",
      "  [3 8 1 3 3]]\n",
      "\n",
      " [[3 7 0 1 9]\n",
      "  [9 0 4 7 3]\n",
      "  [2 7 2 0 0]\n",
      "  [4 5 5 6 8]]\n",
      "\n",
      " [[4 1 4 9 8]\n",
      "  [1 1 7 9 9]\n",
      "  [3 6 7 2 0]\n",
      "  [3 5 9 4 4]]]\n",
      "------------------------\n",
      "one ==> 1\n",
      "two ==> 2\n",
      "three ==> 3\n",
      "------------------------\n",
      "one ==> (6,)\n",
      "two ==> (2, 5)\n",
      "three ==> (3, 4, 5)\n",
      "------------------------\n",
      "one ==> 6\n",
      "two ==> 10\n",
      "three ==> 60\n",
      "------------------------\n",
      "one ==> int32\n",
      "two ==> int32\n",
      "three ==> int32\n",
      "------------------------\n",
      "one ==> 4\n",
      "two ==> 4\n",
      "three ==> 4\n",
      "------------------------\n",
      "one ==> 24\n",
      "two ==> 40\n",
      "three ==> 240\n"
     ]
    }
   ],
   "source": [
    "# The Basics of NumPy Arrays\n",
    "# NumPy Array Attributes\n",
    "\n",
    "# Creating one, two and three dimensional arrays.\n",
    "\n",
    "import numpy as np\n",
    "np.random.seed(0)\n",
    "\n",
    "# Creating a one dimensional array.\n",
    "one = np.random.randint(10, size = 6)\n",
    "print(one)\n",
    "print(\"------------------------\")\n",
    "\n",
    "# Creating a two dimensional array.\n",
    "two = np.random.randint(10, size = (2, 5))\n",
    "print(two)\n",
    "print(\"------------------------\")\n",
    "\n",
    "# Creating a three dimensional array.\n",
    "three = np.random.randint(10, size = (3, 4, 5))\n",
    "print(three)\n",
    "print(\"------------------------\")\n",
    "\n",
    "# Using the attributes to determine the dimension of the arrays.\n",
    "print(\"one ==>\", one.ndim )\n",
    "print(\"two ==>\", two.ndim )\n",
    "print(\"three ==>\", three.ndim )\n",
    "print(\"------------------------\")\n",
    "\n",
    "# Using the attribute to determine the shape of the arrays.\n",
    "print(\"one ==>\", one.shape)\n",
    "print(\"two ==>\", two.shape)\n",
    "print(\"three ==>\", three.shape)\n",
    "print(\"------------------------\")\n",
    "\n",
    "# Using the attribute to determine the size of the arrays.\n",
    "print(\"one ==>\", one.size)\n",
    "print(\"two ==>\", two.size)\n",
    "print(\"three ==>\", three.size)\n",
    "print(\"------------------------\")\n",
    "\n",
    "# Using the attribute to determine the datatype of the arrays.\n",
    "print(\"one ==>\", one.dtype)\n",
    "print(\"two ==>\", two.dtype)\n",
    "print(\"three ==>\", three.dtype)\n",
    "print(\"------------------------\")\n",
    "\n",
    "# Using the attribute to determine the item size of the arrays.\n",
    "print(\"one ==>\", one.itemsize)\n",
    "print(\"two ==>\", two.itemsize)\n",
    "print(\"three ==>\", three.itemsize)\n",
    "print(\"------------------------\")\n",
    "\n",
    "# Using the attribute to determine the total number of bytes of the array.\n",
    "print(\"one ==>\", one.nbytes)\n",
    "print(\"two ==>\", two.nbytes)\n",
    "print(\"three ==>\", three.nbytes)"
   ]
  },
  {
   "cell_type": "code",
   "execution_count": 3,
   "metadata": {},
   "outputs": [
    {
     "name": "stdout",
     "output_type": "stream",
     "text": [
      "3\n"
     ]
    }
   ],
   "source": [
    "# Array Indexing: Accessing Single Elements\n",
    "oneValue = one[2]\n",
    "print(oneValue)"
   ]
  },
  {
   "cell_type": "code",
   "execution_count": 4,
   "metadata": {},
   "outputs": [
    {
     "name": "stdout",
     "output_type": "stream",
     "text": [
      "[[3 5 2 4 7]\n",
      " [6 8 8 1 6]]\n",
      "7\n"
     ]
    }
   ],
   "source": [
    "# Accessing the elements in a multi dimensional array\n",
    "print(two)\n",
    "twoValue = two[0, 4]\n",
    "print(twoValue)"
   ]
  },
  {
   "cell_type": "code",
   "execution_count": 5,
   "metadata": {},
   "outputs": [
    {
     "name": "stdout",
     "output_type": "stream",
     "text": [
      "[5 0 3 3 7 9]\n",
      "[5 0 3 6 7 9]\n",
      "[5 0 3 6 4 9]\n"
     ]
    }
   ],
   "source": [
    "# Changing the values of the array\n",
    "print(one)\n",
    "one[3] = 6\n",
    "print(one)\n",
    "one[4] = 4.56 # It will be silently truncated\n",
    "print(one)"
   ]
  },
  {
   "cell_type": "code",
   "execution_count": 6,
   "metadata": {},
   "outputs": [
    {
     "name": "stdout",
     "output_type": "stream",
     "text": [
      "[6 4 4 3 4 4 8 4 3 7]\n",
      "------------------------\n",
      "[4 8 3]\n",
      "------------------------\n",
      "[4 3 4 4 7]\n",
      "------------------------\n",
      "[6 4 4 8 3]\n",
      "------------------------\n",
      "[6 4 4 3 4 4 8 4 3]\n",
      "------------------------\n",
      "[7 3 4 8 4 4 3 4 4 6]\n",
      "------------------------\n",
      "University of Regina is awesome !!!\n",
      "------------------------\n",
      "!!! emosewa si anigeR fo ytisrevinU\n"
     ]
    }
   ],
   "source": [
    "# Array Slicing: Accessing Subarrays\n",
    "# The syntax of the slicing is ==> x[start:stop:step] ==> default value is [0: size of the dimension: 1]\n",
    "\n",
    "a = np.random.randint(10, size = (10))\n",
    "print(a)\n",
    "print(\"------------------------\")\n",
    "\n",
    "print(a[4: 9: 2])\n",
    "print(\"------------------------\")\n",
    "\n",
    "print(a[1::2])\n",
    "print(\"------------------------\")\n",
    "\n",
    "print(a[::2])\n",
    "print(\"------------------------\")\n",
    "\n",
    "print(a[:9:])\n",
    "print(\"------------------------\")\n",
    "\n",
    "# This is the best example for reversing an array\n",
    "print(a[::-1])\n",
    "print(\"------------------------\")\n",
    "\n",
    "# I tries on strings and it worked !!!\n",
    "a = \"University of Regina is awesome !!!\"\n",
    "print(a)\n",
    "print(\"------------------------\")\n",
    "\n",
    "print(a[::-1])"
   ]
  },
  {
   "cell_type": "code",
   "execution_count": 7,
   "metadata": {},
   "outputs": [
    {
     "name": "stdout",
     "output_type": "stream",
     "text": [
      "[[3 5 2 4 7]\n",
      " [6 8 8 1 6]]\n",
      "------------------------\n",
      "[[3 5 2]\n",
      " [6 8 8]]\n",
      "------------------------\n",
      "[[3 4]\n",
      " [6 1]]\n",
      "------------------------\n",
      "[[6 1 8 8 6]\n",
      " [7 4 2 5 3]]\n"
     ]
    }
   ],
   "source": [
    "print(two)\n",
    "print(\"------------------------\")\n",
    "\n",
    "twoValue = two[:2, :3]\n",
    "print(twoValue)\n",
    "print(\"------------------------\")\n",
    "\n",
    "twoValue = two[:2, ::3]\n",
    "print(twoValue)\n",
    "print(\"------------------------\")\n",
    "\n",
    "twoValue = two[::-1, ::-1]\n",
    "print(twoValue)"
   ]
  },
  {
   "cell_type": "code",
   "execution_count": 8,
   "metadata": {},
   "outputs": [
    {
     "name": "stdout",
     "output_type": "stream",
     "text": [
      "[[3 5 2 4 7]\n",
      " [6 8 8 1 6]]\n",
      "------------------------\n",
      "[3 6]\n",
      "------------------------\n",
      "[3 5 2 4 7]\n",
      "------------------------\n",
      "[3 5 2 4 7]\n"
     ]
    }
   ],
   "source": [
    "# Accessing array rows and columns.\n",
    "print(two)\n",
    "print(\"------------------------\")\n",
    "\n",
    "print(two[:, 0]) # first coloumn \n",
    "print(\"------------------------\")\n",
    "\n",
    "print(two[0, :]) # first row\n",
    "print(\"------------------------\")\n",
    "\n",
    "print(two[0]) # Entire row"
   ]
  },
  {
   "cell_type": "code",
   "execution_count": 9,
   "metadata": {},
   "outputs": [
    {
     "name": "stdout",
     "output_type": "stream",
     "text": [
      "[[3 5 2 4 7]\n",
      " [6 8 8 1 6]]\n",
      "------------------------\n",
      "[[3 5]\n",
      " [6 8]]\n",
      "------------------------\n",
      "[[25  5]\n",
      " [ 6  8]]\n",
      "------------------------\n",
      "[[25  5  2  4  7]\n",
      " [ 6  8  8  1  6]]\n"
     ]
    }
   ],
   "source": [
    "# Modifing the array without using copy() function.\n",
    "\n",
    "print(two)\n",
    "print(\"------------------------\")\n",
    "\n",
    "twoValue = two[:2, :2]\n",
    "print(twoValue)\n",
    "print(\"------------------------\")\n",
    "\n",
    "twoValue[0, 0] = 25\n",
    "print(twoValue)\n",
    "print(\"------------------------\")\n",
    "\n",
    "print(two)"
   ]
  },
  {
   "cell_type": "code",
   "execution_count": 10,
   "metadata": {},
   "outputs": [
    {
     "name": "stdout",
     "output_type": "stream",
     "text": [
      "[[25  5  2  4  7]\n",
      " [ 6  8  8  1  6]]\n",
      "------------------------\n",
      "[[25  5]\n",
      " [ 6  8]]\n",
      "------------------------\n",
      "[[45  5]\n",
      " [ 6  8]]\n",
      "------------------------\n",
      "[[25  5  2  4  7]\n",
      " [ 6  8  8  1  6]]\n"
     ]
    }
   ],
   "source": [
    "# Modifing the array with using copy() function.\n",
    "\n",
    "print(two)\n",
    "print(\"------------------------\")\n",
    "\n",
    "twoValue = two[:2, :2].copy()\n",
    "print(twoValue)\n",
    "print(\"------------------------\")\n",
    "\n",
    "twoValue[0, 0] = 45\n",
    "print(twoValue)\n",
    "print(\"------------------------\")\n",
    "\n",
    "print(two)"
   ]
  },
  {
   "cell_type": "code",
   "execution_count": 11,
   "metadata": {},
   "outputs": [
    {
     "name": "stdout",
     "output_type": "stream",
     "text": [
      "[[1 2 3]\n",
      " [4 5 6]\n",
      " [7 8 9]]\n"
     ]
    }
   ],
   "source": [
    "# Reshaping of Arrays using reshape() in a more advanced way\n",
    "\n",
    "grid = np.arange(1, 10).reshape(3, 3)\n",
    "print(grid)\n"
   ]
  },
  {
   "cell_type": "code",
   "execution_count": 12,
   "metadata": {},
   "outputs": [
    {
     "name": "stdout",
     "output_type": "stream",
     "text": [
      "[5 0 3 6 4 9]\n",
      "------------------------\n",
      "[[5 0]\n",
      " [3 6]\n",
      " [4 9]]\n",
      "------------------------\n",
      "[[5 0 3 6 4 9]]\n",
      "------------------------\n",
      "[[5]\n",
      " [0]\n",
      " [3]\n",
      " [6]\n",
      " [4]\n",
      " [9]]\n"
     ]
    }
   ],
   "source": [
    "# Reshaping the arrays using newaxis\n",
    "\n",
    "print(one)\n",
    "print(\"------------------------\")\n",
    "\n",
    "print(one.reshape(3, 2))\n",
    "print(\"------------------------\")\n",
    "\n",
    "print(one[ np.newaxis, :])\n",
    "print(\"------------------------\")\n",
    "\n",
    "print(one[:, np.newaxis])"
   ]
  },
  {
   "cell_type": "code",
   "execution_count": 13,
   "metadata": {},
   "outputs": [
    {
     "name": "stdout",
     "output_type": "stream",
     "text": [
      "[1 2 3 4 5 6]\n",
      "------------------------\n",
      "[1 2 3 4 5 6 7 8 9]\n",
      "------------------------\n",
      "[[25  5  2  4  7]\n",
      " [ 6  8  8  1  6]]\n",
      "------------------------\n",
      "[[25  5  2  4  7]\n",
      " [ 6  8  8  1  6]\n",
      " [25  5  2  4  7]\n",
      " [ 6  8  8  1  6]]\n",
      "------------------------\n",
      "[[25  5  2  4  7 25  5  2  4  7]\n",
      " [ 6  8  8  1  6  6  8  8  1  6]]\n",
      "------------------------\n"
     ]
    }
   ],
   "source": [
    "# Array Concatenation and Splitting\n",
    "\n",
    "a = np.array([1, 2, 3])\n",
    "b = np.array([4, 5, 6])\n",
    "c = np.concatenate([a, b])\n",
    "print(c)\n",
    "print(\"------------------------\")\n",
    "\n",
    "d = np.array([7, 8, 9])\n",
    "e = np.concatenate([c, d])\n",
    "print(e)\n",
    "print(\"------------------------\")\n",
    "\n",
    "print(two)\n",
    "print(\"------------------------\")\n",
    "\n",
    "f = np.concatenate([two, two])\n",
    "print(f)\n",
    "print(\"------------------------\")\n",
    "\n",
    "# concatenate along the second axis (zero-indexed)\n",
    "g = np.concatenate([two, two], axis = 1)\n",
    "print(g)\n",
    "print(\"------------------------\")\n"
   ]
  },
  {
   "cell_type": "code",
   "execution_count": 14,
   "metadata": {},
   "outputs": [
    {
     "name": "stdout",
     "output_type": "stream",
     "text": [
      "[1 2 3]\n",
      "------------------------\n",
      "[[4 5 6]\n",
      " [7 8 9]]\n",
      "------------------------\n",
      "[[1 2 3]\n",
      " [4 5 6]\n",
      " [7 8 9]]\n",
      "------------------------\n",
      "[[ 4  5  6 99]\n",
      " [ 7  8  9 99]]\n",
      "------------------------\n"
     ]
    }
   ],
   "source": [
    "# Use np.vstack and np.hstack while you play with different types of Arrays.\n",
    "\n",
    "a = np.array([1, 2, 3])\n",
    "print(a)\n",
    "print(\"------------------------\")\n",
    "\n",
    "b = np.array([[4, 5, 6], \n",
    "             [7, 8, 9]])\n",
    "print(b)\n",
    "print(\"------------------------\")\n",
    "\n",
    "print(np.vstack([a, b]))\n",
    "print(\"------------------------\")\n",
    "\n",
    "\n",
    "# horizontally stack the arrays\n",
    "y = np.array([[99],\n",
    "              [99]])\n",
    "print(np.hstack([b, y]))\n",
    "print(\"------------------------\")\n"
   ]
  },
  {
   "cell_type": "code",
   "execution_count": 22,
   "metadata": {},
   "outputs": [
    {
     "name": "stdout",
     "output_type": "stream",
     "text": [
      "[1 2 3 4 5 6 7 8 9 0]\n",
      "------------------------\n",
      "[1 2] [3 4 5] [6 7 8 9 0]\n"
     ]
    }
   ],
   "source": [
    "# Splitting of arrays\n",
    "a = np.array([1, 2, 3, 4, 5, 6, 7, 8, 9, 0])\n",
    "print(a)\n",
    "print(\"------------------------\")\n",
    "b, c, d = np.split(a, [2, 5])\n",
    "print(b, c, d)"
   ]
  },
  {
   "cell_type": "code",
   "execution_count": 23,
   "metadata": {},
   "outputs": [
    {
     "name": "stdout",
     "output_type": "stream",
     "text": [
      "[[ 0  1  2  3]\n",
      " [ 4  5  6  7]\n",
      " [ 8  9 10 11]\n",
      " [12 13 14 15]]\n"
     ]
    }
   ],
   "source": [
    "grid = np.arange(16).reshape(4, 4)\n",
    "print(grid)"
   ]
  },
  {
   "cell_type": "code",
   "execution_count": 27,
   "metadata": {},
   "outputs": [
    {
     "name": "stdout",
     "output_type": "stream",
     "text": [
      "[[0 1 2 3]\n",
      " [4 5 6 7]]\n",
      "------------------------\n",
      "[[ 8  9 10 11]\n",
      " [12 13 14 15]]\n"
     ]
    }
   ],
   "source": [
    "upper, lower = np.vsplit(grid, [2])\n",
    "print(upper)\n",
    "print(\"------------------------\")\n",
    "\n",
    "print(lower)\n"
   ]
  },
  {
   "cell_type": "code",
   "execution_count": 28,
   "metadata": {},
   "outputs": [
    {
     "name": "stdout",
     "output_type": "stream",
     "text": [
      "[[ 0  1]\n",
      " [ 4  5]\n",
      " [ 8  9]\n",
      " [12 13]]\n",
      "------------------------\n",
      "[[ 2  3]\n",
      " [ 6  7]\n",
      " [10 11]\n",
      " [14 15]]\n"
     ]
    }
   ],
   "source": [
    "left, right = np.hsplit(grid, [2])\n",
    "print(left)\n",
    "print(\"------------------------\")\n",
    "\n",
    "print(right)"
   ]
  }
 ],
 "metadata": {
  "kernelspec": {
   "display_name": "Python 3",
   "language": "python",
   "name": "python3"
  },
  "language_info": {
   "codemirror_mode": {
    "name": "ipython",
    "version": 3
   },
   "file_extension": ".py",
   "mimetype": "text/x-python",
   "name": "python",
   "nbconvert_exporter": "python",
   "pygments_lexer": "ipython3",
   "version": "3.7.3"
  }
 },
 "nbformat": 4,
 "nbformat_minor": 2
}
